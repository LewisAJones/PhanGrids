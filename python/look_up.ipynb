{
 "cells": [
  {
   "cell_type": "markdown",
   "id": "8d7eb3de-917c-492f-97ea-54590624a519",
   "metadata": {},
   "source": [
    "### This notebook takes user-specified coordinates and ages and returns reconstructed coordinates from a selected reference reconstruction grid-file"
   ]
  },
  {
   "cell_type": "code",
   "execution_count": 1,
   "id": "76b50372-2d58-4502-b1fc-d115dabbf0d0",
   "metadata": {
    "tags": []
   },
   "outputs": [],
   "source": [
    "import h3\n",
    "import sys\n",
    "import numpy as np\n",
    "import pandas as pd"
   ]
  },
  {
   "cell_type": "markdown",
   "id": "ee4ac2d0-d373-4c2a-84da-7e9a1d3155f8",
   "metadata": {},
   "source": [
    "#### User-defined parameters"
   ]
  },
  {
   "cell_type": "code",
   "execution_count": 2,
   "id": "d3c06dbe-3e23-4cd5-b0a0-4f56b89a87fc",
   "metadata": {},
   "outputs": [],
   "source": [
    "user_data = 'pbdb_data.csv'\n",
     # If a lighter dataframe is needed, use:
     #"user_data = 'pbdb_data_light.csv'\n",
    "plate_model = 'TC16'\n",
    "h3_resolution = 4 "
   ]
  },
  {
   "cell_type": "markdown",
   "id": "fc6229cd-5884-4f78-9040-5c4e9b24ef08",
   "metadata": {},
   "source": [
    "#### Read in and verify data"
   ]
  },
  {
   "cell_type": "code",
   "execution_count": 3,
   "id": "2919daf2-206b-4bcf-9632-75ff0df20a67",
   "metadata": {
    "tags": []
   },
   "outputs": [],
   "source": [
    "# read in reference grid and assign to dataframe\n",
    "df_grid = pd.read_csv('rotation_grids/%s/resolution_%s.csv' % (plate_model, h3_resolution))\n",
    "\n",
    "# determine max age in reference grid\n",
    "lastcol = list(df_grid)[-1]\n",
    "maxage = int(''.join(x for x in lastcol if x.isdigit()))\n",
    "\n",
    "# rename the lat/lng columns so that they don't conflict with the lat/lng data columns later during dataframe merger\n",
    "df_grid.rename(columns = {'lng':'lng_0', 'lat':'lat_0'}, inplace = True)\n",
    "\n",
    "# read in user input data and assign to dataframe\n",
    "df_data = pd.read_csv(user_data)\n",
    "\n",
    "# check that necessary input data columns are present\n",
    "col_list_data = list(df_data)\n",
    "if not all(x in col_list_data for x in ['lng','lat', 'mid_ma']):\n",
    "    print('user-specified input data file is missing one of the critical columns: lng, lat, and/or mid_ma')\n",
    "    sys.exit()\n",
    "    \n",
    "# retrieve corresponding h3 cells\n",
    "df_data['h3'] = df_data.apply(lambda row: h3.geo_to_h3(row.lat, row.lng, h3_resolution), axis=1) \n",
    "\n",
    "# convert midpoint age to integer\n",
    "df_data['recon_age'] = df_data.mid_ma.astype(int)"
   ]
  },
  {
   "cell_type": "markdown",
   "id": "5484dd9a-0708-407b-9889-444ea6d5d21b",
   "metadata": {
    "tags": []
   },
   "source": [
    "#### Retrieve reconstructed coordinates"
   ]
  },
  {
   "cell_type": "code",
   "execution_count": 4,
   "id": "fa220306-2b6a-4b63-bf3b-96ce4876c438",
   "metadata": {},
   "outputs": [],
   "source": [
    "# merge data and reference dataframes\n",
    "df_merged = df_data.merge(df_grid, how='left', left_on='h3', right_on='h3')\n",
    "\n",
    "# perform lookup to get plat/plng coordinates\n",
    "df_merged['p_lat'] = np.where(df_merged['recon_age'] <= maxage, f'lat_{df_merged.recon_age}', np.nan)\n",
    "df_merged['p_lng'] = np.where(df_merged['recon_age'] <= maxage, f'lng_{df_merged.recon_age}', np.nan)"
   ]
  },
  {
   "cell_type": "markdown",
   "id": "9cf72291-c5a4-4868-ac65-3f7933bbe64e",
   "metadata": {},
   "source": [
    "#### Export"
   ]
  },
  {
   "cell_type": "code",
   "execution_count": 5,
   "id": "fdd4e014-4ad8-4642-aec8-c74d75f6dc10",
   "metadata": {
    "tags": []
   },
   "outputs": [],
   "source": [
    "# prune dataframe so that we only re-export the original datafile + plat/plng coordinates\n",
    "col_list_data += ['p_lat', 'p_lng']\n",
    "export = df_merged[col_list_data].copy()\n",
    "\n",
    "export.to_csv('paleocoordinates.csv', index=False, na_rep='NA', float_format='%.4f')   # set format of NaNs + precision of floats and save"
   ]
  }
 ],
 "metadata": {
  "kernelspec": {
   "display_name": "Python 3 (ipykernel)",
   "language": "python",
   "name": "python3"
  },
  "language_info": {
   "codemirror_mode": {
    "name": "ipython",
    "version": 3
   },
   "file_extension": ".py",
   "mimetype": "text/x-python",
   "name": "python",
   "nbconvert_exporter": "python",
   "pygments_lexer": "ipython3",
   "version": "3.8.10"
  }
 },
 "nbformat": 4,
 "nbformat_minor": 5
}
